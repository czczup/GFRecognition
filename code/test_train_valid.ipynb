{
 "cells": [
  {
   "cell_type": "code",
   "execution_count": 1,
   "metadata": {},
   "outputs": [
    {
     "name": "stdout",
     "output_type": "stream",
     "text": [
      "Tensor(\"Resnet/stage1/Relu:0\", shape=(?, 7, 26, 32), dtype=float32)\n",
      "Tensor(\"Resnet/stage2/residual/Relu_2:0\", shape=(?, 7, 26, 64), dtype=float32)\n",
      "Tensor(\"Resnet/stage3/residual/Relu_2:0\", shape=(?, 4, 13, 128), dtype=float32)\n",
      "Tensor(\"Resnet/stage4/residual/Relu_2:0\", shape=(?, 2, 7, 256), dtype=float32)\n",
      "Tensor(\"Resnet/stage5/residual/Relu_2:0\", shape=(?, 1, 4, 512), dtype=float32)\n",
      "Tensor(\"Resnet/stage5/AvgPool:0\", shape=(?, 1, 1, 512), dtype=float32)\n",
      "Tensor(\"Resnet/fc/flatten/Reshape:0\", shape=(?, 512), dtype=float32)\n",
      "WARNING:tensorflow:From /home/czczcz/Recognition/2019Competition/code/model_visit.py:85: softmax_cross_entropy_with_logits (from tensorflow.python.ops.nn_ops) is deprecated and will be removed in a future version.\n",
      "Instructions for updating:\n",
      "\n",
      "Future major versions of TensorFlow will allow gradients to flow\n",
      "into the labels input on backprop by default.\n",
      "\n",
      "See @{tf.nn.softmax_cross_entropy_with_logits_v2}.\n",
      "\n",
      "网络初始化成功\n",
      "INFO:tensorflow:Restoring parameters from ../model/1007/model.ckpt-2000\n"
     ]
    },
    {
     "name": "stderr",
     "output_type": "stream",
     "text": [
      "/root/anaconda3/envs/czczcz/lib/python3.6/site-packages/tensorflow/python/client/session.py:1714: UserWarning: An interactive session is already active. This can cause out-of-memory errors in some cases. You must explicitly call `InteractiveSession.close()` to release resources held by the other session(s).\n",
      "  warnings.warn('An interactive session is already active. This can '\n"
     ]
    },
    {
     "name": "stdout",
     "output_type": "stream",
     "text": [
      "Tensor(\"Resnet/stage1/Relu:0\", shape=(?, 88, 88, 16), dtype=float32)\n",
      "Tensor(\"Resnet/stage2/residual/Relu_2:0\", shape=(?, 44, 44, 32), dtype=float32)\n",
      "Tensor(\"Resnet/stage3/residual/Relu_2:0\", shape=(?, 22, 22, 64), dtype=float32)\n",
      "Tensor(\"Resnet/stage4/residual/Relu_2:0\", shape=(?, 11, 11, 128), dtype=float32)\n",
      "Tensor(\"Resnet/stage5/residual/Relu_2:0\", shape=(?, 6, 6, 256), dtype=float32)\n",
      "Tensor(\"Resnet/stage5/AvgPool:0\", shape=(?, 1, 1, 256), dtype=float32)\n",
      "Tensor(\"Resnet/fc/flatten/Reshape:0\", shape=(?, 256), dtype=float32)\n",
      "网络初始化成功\n",
      "INFO:tensorflow:Restoring parameters from ../model/1015/model.ckpt-17000\n",
      "网络初始化成功\n",
      "INFO:tensorflow:Restoring parameters from ../model/1012/model.ckpt-1000\n"
     ]
    }
   ],
   "source": [
    "from model_visit import VisitModel\n",
    "from model_image import Resnet\n",
    "from model_multimodal import MultiModal\n",
    "import tensorflow as tf\n",
    "import numpy as np\n",
    "import pandas as pd\n",
    "import sys\n",
    "import os\n",
    "\n",
    "\n",
    "os.environ[\"CUDA_VISIBLE_DEVICES\"] = '7'\n",
    "table = pd.read_csv(\"../data/valid.txt\", header=None)\n",
    "filenames1 = [item[0] for item in table.values]\n",
    "filenames2 = [item[0].split('/')[-1].split('.')[0] for item in table.values]\n",
    "\n",
    "graph1 = tf.Graph()\n",
    "sess_visit = tf.InteractiveSession(graph=graph1)\n",
    "with sess_visit.graph.as_default():\n",
    "    with sess_visit.as_default():\n",
    "        visit_model = VisitModel()\n",
    "        sess_visit.run(tf.local_variables_initializer())\n",
    "        sess_visit.run(tf.global_variables_initializer())\n",
    "        var_list = [var for var in tf.global_variables() if \"moving\" in var.name]\n",
    "        var_list += [var for var in tf.global_variables() if \"global_step\" in var.name]\n",
    "        var_list += tf.trainable_variables()\n",
    "        saver1 = tf.train.Saver(var_list=var_list, max_to_keep=1)\n",
    "        saver1.restore(sess_visit, \"../model/1007/model.ckpt-2000\")\n",
    "        \n",
    "graph2 = tf.Graph()\n",
    "sess_image = tf.InteractiveSession(graph=graph2)\n",
    "with sess_image.graph.as_default():\n",
    "    with sess_image.as_default():\n",
    "        image_model = Resnet()\n",
    "        sess_image.run(tf.local_variables_initializer())\n",
    "        sess_image.run(tf.global_variables_initializer())\n",
    "        var_list = [var for var in tf.global_variables() if \"moving\" in var.name]\n",
    "        var_list += [var for var in tf.global_variables() if \"global_step\" in var.name]\n",
    "        var_list += tf.trainable_variables()\n",
    "        saver2 = tf.train.Saver(var_list=var_list, max_to_keep=1)\n",
    "        saver2.restore(sess_image, \"../model/1015/model.ckpt-17000\")            \n",
    "        \n",
    "        \n",
    "graph3 = tf.Graph()\n",
    "sess_multi = tf.InteractiveSession(graph=graph3)\n",
    "with sess_multi.graph.as_default():\n",
    "    with sess_multi.as_default():\n",
    "        multi_model = MultiModal()\n",
    "        sess_multi.run(tf.local_variables_initializer())\n",
    "        sess_multi.run(tf.global_variables_initializer())\n",
    "        var_list = [var for var in tf.global_variables() if \"moving\" in var.name]\n",
    "        var_list += [var for var in tf.global_variables() if \"global_step\" in var.name]\n",
    "        var_list += tf.trainable_variables()\n",
    "        saver3 = tf.train.Saver(var_list=var_list, max_to_keep=1)\n",
    "        saver3.restore(sess_multi, \"../model/1012/model.ckpt-1000\")       "
   ]
  },
  {
   "cell_type": "code",
   "execution_count": 2,
   "metadata": {},
   "outputs": [
    {
     "name": "stdout",
     "output_type": "stream",
     "text": [
      "测试完成\n",
      "[117, 118, 104, 79, 117, 75, 120, 102, 116]\n",
      "[0.585, 0.59, 0.52, 0.395, 0.585, 0.375, 0.6, 0.51, 0.58]\n",
      "0.5266666666666666\n"
     ]
    },
    {
     "data": {
      "image/png": "[encoded data removed]",
      "text/plain": [
       "<Figure size 432x288 with 1 Axes>"
      ]
     },
     "metadata": {},
     "output_type": "display_data"
    }
   ],
   "source": [
    "predictions = {}\n",
    "length = len(filenames2)\n",
    "data = []\n",
    "labels = []\n",
    "for index, filename in enumerate(filenames2):\n",
    "    array = np.load(\"../data/train_visit/\"+filename+\".npy\")\n",
    "    class_id = int(filename.split('_')[-1])\n",
    "    data.append(array)\n",
    "    labels.append(class_id)\n",
    "\n",
    "predictions = sess_visit.run(tf.argmax(visit_model.output, 1), \n",
    "                          feed_dict={visit_model.image: data, \n",
    "                                     visit_model.training: False})\n",
    "softmax_visit = sess_visit.run(tf.nn.softmax(visit_model.output), \n",
    "                          feed_dict={visit_model.image: data, \n",
    "                                     visit_model.training: False})\n",
    "print(\"测试完成\")\n",
    "scores = [0,0,0,0,0,0,0,0,0]\n",
    "for index, prediction in enumerate(predictions):\n",
    "    if(labels[index] == prediction+1):\n",
    "        scores[prediction] += 1\n",
    "print(scores)\n",
    "\n",
    "avg = [score/200 for score in scores]\n",
    "print(avg)\n",
    "print(sum(scores)/1800)\n",
    "\n",
    "import matplotlib.pyplot as plt\n",
    "%matplotlib inline\n",
    "plt.bar(range(len(avg)), avg)\n",
    "plt.xlabel('class_id')\n",
    "plt.ylabel('accuracy')\n",
    "plt.ylim(0, 1.0)\n",
    "for x,y in zip(range(len(avg)),avg):\n",
    "    plt.text(x, y+0.01, '%.2f' % y, ha='center', va= 'bottom')\n",
    "plt.show()"
   ]
  },
  {
   "cell_type": "code",
   "execution_count": 3,
   "metadata": {},
   "outputs": [
    {
     "name": "stdout",
     "output_type": "stream",
     "text": [
      "测试完成\n",
      "[34, 52, 82, 60, 160, 121, 43, 32, 37]\n",
      "[0.17, 0.26, 0.41, 0.3, 0.8, 0.605, 0.215, 0.16, 0.185]\n",
      "0.345\n"
     ]
    },
    {
     "data": {
      "image/png": "[encoded data removed]",
      "text/plain": [
       "<Figure size 432x288 with 1 Axes>"
      ]
     },
     "metadata": {},
     "output_type": "display_data"
    }
   ],
   "source": [
    "import cv2\n",
    "\n",
    "predictions = {}\n",
    "length = len(filenames1)\n",
    "data = []\n",
    "labels = []\n",
    "for index, filename in enumerate(filenames1):\n",
    "    image = cv2.imread(filename, cv2.IMREAD_COLOR)[6:94,6:94,:] / 255.0\n",
    "    class_id = int(filename.split('_')[-1].split('.')[0])\n",
    "    data.append(image)\n",
    "    labels.append(class_id)\n",
    "\n",
    "predictions = sess_image.run(tf.argmax(image_model.output, 1), \n",
    "                          feed_dict={image_model.image: data, \n",
    "                                     image_model.training: False})\n",
    "softmax_image = sess_image.run(tf.nn.softmax(image_model.output), \n",
    "                          feed_dict={image_model.image: data, \n",
    "                                     image_model.training: False})\n",
    "print(\"测试完成\")\n",
    "scores = [0,0,0,0,0,0,0,0,0]\n",
    "for index, prediction in enumerate(predictions):\n",
    "    if(labels[index] == prediction+1):\n",
    "        scores[prediction] += 1\n",
    "print(scores)\n",
    "\n",
    "avg = [score/200 for score in scores]\n",
    "print(avg)\n",
    "print(sum(scores)/1800)\n",
    "\n",
    "import matplotlib.pyplot as plt\n",
    "%matplotlib inline\n",
    "plt.bar(range(len(avg)), avg)\n",
    "plt.xlabel('class_id')\n",
    "plt.ylabel('accuracy')\n",
    "plt.ylim(0, 1.0)\n",
    "for x,y in zip(range(len(avg)),avg):\n",
    "    plt.text(x, y+0.01, '%.2f' % y, ha='center', va= 'bottom')\n",
    "plt.show()"
   ]
  },
  {
   "cell_type": "code",
   "execution_count": 4,
   "metadata": {},
   "outputs": [
    {
     "name": "stdout",
     "output_type": "stream",
     "text": [
      "[101, 119, 123, 100, 164, 126, 109, 107, 114]\n",
      "[0.505, 0.595, 0.615, 0.5, 0.82, 0.63, 0.545, 0.535, 0.57]\n",
      "0.5905555555555555\n"
     ]
    },
    {
     "data": {
      "image/png": "[encoded data removed]",
      "text/plain": [
       "<Figure size 432x288 with 1 Axes>"
      ]
     },
     "metadata": {},
     "output_type": "display_data"
    }
   ],
   "source": [
    "predictions = []\n",
    "\n",
    "\n",
    "for i in range(len(softmax_image)):\n",
    "    \n",
    "    softmax_sum = softmax_image[i]+softmax_visit[i]\n",
    "    prediction = np.argmax(softmax_sum)\n",
    "    predictions.append(prediction)\n",
    "    \n",
    "scores = [0,0,0,0,0,0,0,0,0]\n",
    "for index, prediction in enumerate(predictions):\n",
    "    if(labels[index] == prediction+1):\n",
    "        scores[prediction] += 1\n",
    "print(scores)\n",
    "\n",
    "avg = [score/200 for score in scores]\n",
    "print(avg)\n",
    "print(sum(scores)/1800)\n",
    "\n",
    "import matplotlib.pyplot as plt\n",
    "%matplotlib inline\n",
    "plt.bar(range(len(avg)), avg)\n",
    "plt.xlabel('class_id')\n",
    "plt.ylabel('accuracy')\n",
    "plt.ylim(0, 1.0)\n",
    "for x,y in zip(range(len(avg)),avg):\n",
    "    plt.text(x, y+0.01, '%.2f' % y, ha='center', va= 'bottom')\n",
    "plt.show()"
   ]
  },
  {
   "cell_type": "code",
   "execution_count": 5,
   "metadata": {},
   "outputs": [
    {
     "name": "stdout",
     "output_type": "stream",
     "text": [
      "测试完成\n",
      "[134, 110, 127, 59, 169, 94, 103, 94, 116]\n",
      "[0.67, 0.55, 0.635, 0.295, 0.845, 0.47, 0.515, 0.47, 0.58]\n",
      "0.5588888888888889\n"
     ]
    },
    {
     "data": {
      "image/png": "[encoded data removed]",
      "text/plain": [
       "<Figure size 432x288 with 1 Axes>"
      ]
     },
     "metadata": {},
     "output_type": "display_data"
    }
   ],
   "source": [
    "images = []\n",
    "visits = []\n",
    "labels = []\n",
    "\n",
    "for i in range(len(filenames1)):\n",
    "    image = cv2.imread(filenames1[i], cv2.IMREAD_COLOR)[0:88,0:88,:] / 255.0\n",
    "    visit = np.load(\"../data/train_visit/\"+filenames2[i]+\".npy\")\n",
    "    class_id = int(filenames1[i].split('_')[-1].split('.')[0])\n",
    "    images.append(image)\n",
    "    visits.append(visit)\n",
    "    labels.append(class_id)\n",
    "\n",
    "predictions = sess_multi.run(tf.argmax(multi_model.prediction, 1), \n",
    "                          feed_dict={multi_model.image: images, \n",
    "                                     multi_model.visit: visits,\n",
    "                                     multi_model.training: False})\n",
    "\n",
    "softmax_multi = sess_multi.run(tf.nn.softmax(multi_model.prediction), \n",
    "                          feed_dict={multi_model.image: data, \n",
    "                                     multi_model.visit: visits,\n",
    "                                     multi_model.training: False})\n",
    "\n",
    "print(\"测试完成\")\n",
    "scores = [0,0,0,0,0,0,0,0,0]\n",
    "for index, prediction in enumerate(predictions):\n",
    "    if(labels[index] == prediction+1):\n",
    "        scores[prediction] += 1\n",
    "print(scores)\n",
    "\n",
    "avg = [score/200 for score in scores]\n",
    "print(avg)\n",
    "print(sum(scores)/1800)\n",
    "\n",
    "import matplotlib.pyplot as plt\n",
    "%matplotlib inline\n",
    "plt.bar(range(len(avg)), avg)\n",
    "plt.xlabel('class_id')\n",
    "plt.ylabel('accuracy')\n",
    "plt.ylim(0, 1.0)\n",
    "for x,y in zip(range(len(avg)),avg):\n",
    "    plt.text(x, y+0.01, '%.2f' % y, ha='center', va= 'bottom')\n",
    "plt.show()"
   ]
  },
  {
   "cell_type": "code",
   "execution_count": 6,
   "metadata": {},
   "outputs": [
    {
     "name": "stdout",
     "output_type": "stream",
     "text": [
      "[130, 123, 137, 100, 178, 126, 117, 108, 123]\n",
      "[0.65, 0.615, 0.685, 0.5, 0.89, 0.63, 0.585, 0.54, 0.615]\n",
      "0.6344444444444445\n"
     ]
    },
    {
     "data": {
      "image/png": "[encoded data removed]",
      "text/plain": [
       "<Figure size 432x288 with 1 Axes>"
      ]
     },
     "metadata": {},
     "output_type": "display_data"
    }
   ],
   "source": [
    "predictions = []\n",
    "\n",
    "\n",
    "for i in range(len(softmax_image)):\n",
    "    \n",
    "    softmax_sum = softmax_image[i]+softmax_visit[i]+softmax_multi[i]\n",
    "    prediction = np.argmax(softmax_sum)\n",
    "    predictions.append(prediction)\n",
    "    \n",
    "scores = [0,0,0,0,0,0,0,0,0]\n",
    "for index, prediction in enumerate(predictions):\n",
    "    if(labels[index] == prediction+1):\n",
    "        scores[prediction] += 1\n",
    "print(scores)\n",
    "\n",
    "avg = [score/200 for score in scores]\n",
    "print(avg)\n",
    "print(sum(scores)/1800)\n",
    "\n",
    "import matplotlib.pyplot as plt\n",
    "%matplotlib inline\n",
    "plt.bar(range(len(avg)), avg)\n",
    "plt.xlabel('class_id')\n",
    "plt.ylabel('accuracy')\n",
    "plt.ylim(0, 1.0)\n",
    "for x,y in zip(range(len(avg)),avg):\n",
    "    plt.text(x, y+0.01, '%.2f' % y, ha='center', va= 'bottom')\n",
    "plt.show()"
   ]
  },
  {
   "cell_type": "code",
   "execution_count": 7,
   "metadata": {},
   "outputs": [
    {
     "data": {
      "text/plain": [
       "0"
      ]
     },
     "execution_count": 7,
     "metadata": {},
     "output_type": "execute_result"
    }
   ],
   "source": [
    "flag = np.random.randint(0, 2)\n",
    "flag"
   ]
  }
 ],
 "metadata": {
  "kernelspec": {
   "display_name": "Python 3",
   "language": "python",
   "name": "python3"
  },
  "language_info": {
   "codemirror_mode": {
    "name": "ipython",
    "version": 3
   },
   "file_extension": ".py",
   "mimetype": "text/x-python",
   "name": "python",
   "nbconvert_exporter": "python",
   "pygments_lexer": "ipython3",
   "version": "3.6.6"
  }
 },
 "nbformat": 4,
 "nbformat_minor": 2
}
